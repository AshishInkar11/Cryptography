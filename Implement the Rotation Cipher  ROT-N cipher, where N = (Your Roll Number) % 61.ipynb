{
  "cells": [
    {
      "cell_type": "markdown",
      "metadata": {
        "id": "AMG9iv1YjciF"
      },
      "source": [
        "# Assignment 1\n",
        "## Question:  \n",
        "1. \n",
        "----Implement the Rotation Cipher  ROT-N cipher, where N = (Your Roll Number) % 61\n",
        "There must be two separate functions for encryption and decryption"
      ]
    },
    {
      "cell_type": "code",
      "execution_count": 25,
      "metadata": {
        "id": "Jjtv6HKhjn7_"
      },
      "outputs": [],
      "source": [
        "RollNo=451478"
      ]
    },
    {
      "cell_type": "markdown",
      "metadata": {
        "id": "hFzbpRTLjxQS"
      },
      "source": [
        "\n",
        "```\n",
        "`# This is formatted as code`\n",
        "```\n",
        "\n"
      ]
    },
    {
      "cell_type": "code",
      "execution_count": 26,
      "metadata": {
        "id": "maXrPLBZkEQX"
      },
      "outputs": [],
      "source": [
        "def rotN_enc(N,m):\n",
        "  key=N%61\n",
        "  k=[]\n",
        "  m=m.upper()  \n",
        "  for i in m:\n",
        "    k.append(chr((ord(i)-65+(key))%26+65))\n",
        "  return \"\".join(k)"
      ]
    },
    {
      "cell_type": "code",
      "execution_count": 27,
      "metadata": {
        "id": "5CdQZqemkjCY"
      },
      "outputs": [],
      "source": [
        "def rotN_dec(N,c):\n",
        "  key=N%61\n",
        "  k=[]\n",
        "  c=c.upper() \n",
        "  for i in c:\n",
        "    k.append(chr((ord(i)-65-(key))%26+65))\n",
        "  return \"\".join(k)"
      ]
    },
    {
      "cell_type": "code",
      "execution_count": 28,
      "metadata": {
        "colab": {
          "base_uri": "https://localhost:8080/"
        },
        "id": "83vtkLnXksfH",
        "outputId": "34613b20-4d04-4f0c-a8a7-7202c49379c5"
      },
      "outputs": [
        {
          "name": "stdout",
          "output_type": "stream",
          "text": [
            "enter a string: Ashish Inkar\n",
            "message:Ashish Inkar\n",
            "encoded: VNCDNCODIFVM\n",
            "decoded: ASHISHTINKAR\n"
          ]
        }
      ],
      "source": [
        "message = input('enter a string: ')\n",
        "encoded= rotN_enc(RollNo,message)\n",
        "decoded=rotN_dec(RollNo,encoded)\n",
        "print(f'''message:{message}\n",
        "encoded: {encoded}\n",
        "decoded: {decoded}''')"
      ]
    }
  ],
  "metadata": {
    "colab": {
      "name": "Welcome To Colaboratory",
      "provenance": [],
      "toc_visible": true
    },
    "kernelspec": {
      "display_name": "Python 3",
      "name": "python3"
    }
  },
  "nbformat": 4,
  "nbformat_minor": 0
}
